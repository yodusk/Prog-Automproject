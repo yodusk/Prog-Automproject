{
  "nbformat": 4,
  "nbformat_minor": 0,
  "metadata": {
    "colab": {
      "name": "Untitled15.ipynb",
      "provenance": [],
      "collapsed_sections": []
    },
    "kernelspec": {
      "name": "python3",
      "display_name": "Python 3"
    },
    "language_info": {
      "name": "python"
    },
    "accelerator": "GPU"
  },
  "cells": [
    {
      "cell_type": "markdown",
      "metadata": {
        "id": "jNzQy7MlpffV"
      },
      "source": [
        "## MLDEV installation"
      ]
    },
    {
      "cell_type": "code",
      "metadata": {
        "id": "5Zw2Z2YFYHuw"
      },
      "source": [
        "!apt update && apt-get install python3-pip python-virtualenv python3.7-venv\n",
        "!git clone https://gitlab.com/mlrep/mldev.git\n",
        "!cd mldev && git checkout -b 79-fixes-for-0-3-dev1-exploreparams\n",
        "!cd mldev && python setup.py clean build bdist_wheel\n",
        "!pip install mldev[base,dvc]@file:///content/mldev/dist/mldev-0.3.dev2-py3-none-any.whl\n",
        "!git clone https://github.com/yodusk/Prog-Automproject.git\n",
        "!cd ./Prog-Automproject && mldev init -r ."
      ],
      "execution_count": null,
      "outputs": []
    },
    {
      "cell_type": "markdown",
      "metadata": {
        "id": "V4LOVgixpkiP"
      },
      "source": [
        "## Experiment on FB15K dataset:"
      ]
    },
    {
      "cell_type": "code",
      "metadata": {
        "id": "l88b-y5vpUaN"
      },
      "source": [
        "!cd Prog-Automproject/ && mldev run -f experiment.yml FB15K_RUN"
      ],
      "execution_count": null,
      "outputs": []
    },
    {
      "cell_type": "markdown",
      "metadata": {
        "id": "_whrFxctpsBt"
      },
      "source": [
        "## Experiment on WordNet dataset:"
      ]
    },
    {
      "cell_type": "code",
      "metadata": {
        "id": "kg0Lfiu7pXjb"
      },
      "source": [
        "!cd Prog-Automproject/ && mldev run -f experiment.yml WordNet_Run"
      ],
      "execution_count": null,
      "outputs": []
    },
    {
      "cell_type": "markdown",
      "metadata": {
        "id": "eDqNfIaQpu46"
      },
      "source": [
        "## Experiment on Kinship dataset:"
      ]
    },
    {
      "cell_type": "code",
      "metadata": {
        "id": "WTpWRpOSpZ75"
      },
      "source": [
        "!cd Prog-Automproject/ && mldev run -f experiment.yml Kinship_run"
      ],
      "execution_count": null,
      "outputs": []
    },
    {
      "cell_type": "markdown",
      "metadata": {
        "id": "-kSyKZJepx6f"
      },
      "source": [
        "## Experiment on NELL dataset:"
      ]
    },
    {
      "cell_type": "code",
      "metadata": {
        "id": "hPzXnjFspbAI"
      },
      "source": [
        "!cd Prog-Automproject/ && mldev run -f experiment.yml Nell_run"
      ],
      "execution_count": null,
      "outputs": []
    }
  ]
}